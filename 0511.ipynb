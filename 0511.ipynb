{
  "nbformat": 4,
  "nbformat_minor": 0,
  "metadata": {
    "colab": {
      "name": "0511.ipynb",
      "provenance": [],
      "authorship_tag": "ABX9TyONtbr49KudzKCfRHa5mNPq",
      "include_colab_link": true
    },
    "kernelspec": {
      "name": "python3",
      "display_name": "Python 3"
    },
    "language_info": {
      "name": "python"
    }
  },
  "cells": [
    {
      "cell_type": "markdown",
      "metadata": {
        "id": "view-in-github",
        "colab_type": "text"
      },
      "source": [
        "<a href=\"https://colab.research.google.com/github/YCccc9/Introduction-to-Computers/blob/main/0511.ipynb\" target=\"_parent\"><img src=\"https://colab.research.google.com/assets/colab-badge.svg\" alt=\"Open In Colab\"/></a>"
      ]
    },
    {
      "cell_type": "code",
      "execution_count": 1,
      "metadata": {
        "colab": {
          "base_uri": "https://localhost:8080/"
        },
        "id": "mb3rVjDVbaMj",
        "outputId": "8512292d-406f-4d8b-d621-cef14784f428"
      },
      "outputs": [
        {
          "output_type": "stream",
          "name": "stdout",
          "text": [
            "test\n"
          ]
        }
      ],
      "source": [
        "print(\"test\")"
      ]
    },
    {
      "cell_type": "code",
      "source": [
        "temp=float(input(\"請輸入你的體溫\"))\n",
        "if temp>=37.5:\n",
        " print(\"體溫過高!\")\n",
        "elif temp>=37 and temp<=37.4:\n",
        " print(\"體溫略高!\")\n",
        "elif temp>=34 and temp<=36.9:\n",
        " print(\"體溫正常!\")\n",
        "else:\n",
        "  print(\"體溫異常,請重新測量!\")"
      ],
      "metadata": {
        "colab": {
          "base_uri": "https://localhost:8080/"
        },
        "id": "raJho0Bqbd7w",
        "outputId": "def8b863-dd55-47bb-9607-353ce60d000d"
      },
      "execution_count": 2,
      "outputs": [
        {
          "output_type": "stream",
          "name": "stdout",
          "text": [
            "請輸入你的體溫37.5\n",
            "體溫過高!\n"
          ]
        }
      ]
    },
    {
      "cell_type": "code",
      "source": [
        "money=int(input(\"請輸入購物金額:\"))\n",
        "if (money>=10000):\n",
        "  if (money>=100000):\n",
        "   print(\"八折\",money*0.8,end=\"元\\n\")\n",
        "  elif (money>=50000):\n",
        "    print(\"八五折\",money*0.85,end=\"元\\n\")\n",
        "  elif (money>=30000):\n",
        "    print(\"九折\",money*0.9,end=\"元\\n\")\n",
        "  else:\n",
        "    print(\"九五折\",money*0.95,end=\"元\\n\")\n",
        "else:\n",
        "  print(\"沒打折\",money,end=\"元\\n\")\n"
      ],
      "metadata": {
        "colab": {
          "base_uri": "https://localhost:8080/"
        },
        "id": "0GlX3r9_c_yj",
        "outputId": "aca480e5-ce1c-4132-c373-6f00d9b23a79"
      },
      "execution_count": 10,
      "outputs": [
        {
          "output_type": "stream",
          "name": "stdout",
          "text": [
            "請輸入購物金額:50000\n",
            "八五折 42500.0元\n"
          ]
        }
      ]
    },
    {
      "cell_type": "code",
      "source": [
        "month=int(input(\"請輸入月份:\"))\n",
        "if (12>=month>=1):\n",
        "  if (month>=3 and month<=5):\n",
        "   print(month,\"月是春天!\")\n",
        "  elif (month>=6 and month<=8):\n",
        "    print(month,\"月是夏天!\")\n",
        "  elif (month>=9 and month<=11):\n",
        "    print(month,\"月是秋天!\")\n",
        "  else:\n",
        "    print(month,\"月是冬天!\")\n",
        "else:\n",
        "  print(\"月份不在範圍內\")"
      ],
      "metadata": {
        "colab": {
          "base_uri": "https://localhost:8080/"
        },
        "id": "6Mev-aJRizY3",
        "outputId": "8406f0c4-7a6c-4d01-e7e4-bc7d3ed852b5"
      },
      "execution_count": 24,
      "outputs": [
        {
          "output_type": "stream",
          "name": "stdout",
          "text": [
            "請輸入月份:12\n",
            "12 月是冬天!\n"
          ]
        }
      ]
    },
    {
      "cell_type": "code",
      "source": [
        "tax=int(input(\"請輸入今年收入淨額:\"))\n",
        "if (tax>=300000):\n",
        "  if (tax>=2000000):\n",
        "   print(\"付稅金額:\",tax*0.3,end=\"元\\n\")\n",
        "  elif (money>=1000000):\n",
        "    print(\"付稅金額:\",tax*0.21,end=\"元\\n\")\n",
        "  elif (money>=600000):\n",
        "    print(\"付稅金額:\",tax*0.13,end=\"元\\n\")\n",
        "  else:\n",
        "    print(\"付稅金額:\",tax*0.6,end=\"元\\n\")\n",
        "else:\n",
        "  print(\"付稅金額:\",tax*0,end=\"元\\n\")"
      ],
      "metadata": {
        "colab": {
          "base_uri": "https://localhost:8080/"
        },
        "id": "grr5aRD6izi8",
        "outputId": "e1425c19-6e26-4251-e082-db4e0aab780c"
      },
      "execution_count": 12,
      "outputs": [
        {
          "output_type": "stream",
          "name": "stdout",
          "text": [
            "請輸入今年收入淨額:2000000\n",
            "付稅金額: 600000.0元\n"
          ]
        }
      ]
    },
    {
      "cell_type": "code",
      "source": [
        "grade=float(input(\"請輸入成績\"))\n",
        "if grade>=90:\n",
        " print(\"A\")\n",
        "elif grade>=80 and grade<90:\n",
        " print(\"B\")\n",
        "elif grade>=70 and grade<80:\n",
        " print(\"C\")\n",
        "elif grade>=60 and grade<70:\n",
        " print(\"D\")\n",
        "else:\n",
        "  print(\"E\")"
      ],
      "metadata": {
        "colab": {
          "base_uri": "https://localhost:8080/"
        },
        "id": "zv9wQellizj0",
        "outputId": "ac8c217b-8a13-4fe8-e811-e97142d920d7"
      },
      "execution_count": 17,
      "outputs": [
        {
          "output_type": "stream",
          "name": "stdout",
          "text": [
            "請輸入成績50\n",
            "E\n"
          ]
        }
      ]
    }
  ]
}